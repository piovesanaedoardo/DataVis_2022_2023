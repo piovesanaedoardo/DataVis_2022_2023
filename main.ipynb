{
 "cells": [
  {
   "cell_type": "code",
   "execution_count": 2,
   "metadata": {},
   "outputs": [],
   "source": [
    "import pandas as pd\n",
    "import numpy as np\n",
    "import matplotlib as plt"
   ]
  },
  {
   "cell_type": "code",
   "execution_count": 22,
   "metadata": {},
   "outputs": [],
   "source": [
    "#import\n",
    "df_matches = pd.read_csv(\"WorldCupMatches.csv\")\n",
    "df_players = pd.read_csv(\"WorldCupPlayers.csv\")\n",
    "df_world_cups = pd.read_csv(\"WorldCups.csv\")"
   ]
  },
  {
   "cell_type": "code",
   "execution_count": 23,
   "metadata": {},
   "outputs": [
    {
     "data": {
      "text/html": [
       "<div>\n",
       "<style scoped>\n",
       "    .dataframe tbody tr th:only-of-type {\n",
       "        vertical-align: middle;\n",
       "    }\n",
       "\n",
       "    .dataframe tbody tr th {\n",
       "        vertical-align: top;\n",
       "    }\n",
       "\n",
       "    .dataframe thead th {\n",
       "        text-align: right;\n",
       "    }\n",
       "</style>\n",
       "<table border=\"1\" class=\"dataframe\">\n",
       "  <thead>\n",
       "    <tr style=\"text-align: right;\">\n",
       "      <th></th>\n",
       "      <th>count</th>\n",
       "      <th>mean</th>\n",
       "      <th>std</th>\n",
       "      <th>min</th>\n",
       "      <th>25%</th>\n",
       "      <th>50%</th>\n",
       "      <th>75%</th>\n",
       "      <th>max</th>\n",
       "    </tr>\n",
       "  </thead>\n",
       "  <tbody>\n",
       "    <tr>\n",
       "      <th>RoundID</th>\n",
       "      <td>37784.0</td>\n",
       "      <td>1.105647e+07</td>\n",
       "      <td>2.770144e+07</td>\n",
       "      <td>201.0</td>\n",
       "      <td>263.0</td>\n",
       "      <td>337.0</td>\n",
       "      <td>255931.0</td>\n",
       "      <td>97410600.0</td>\n",
       "    </tr>\n",
       "    <tr>\n",
       "      <th>MatchID</th>\n",
       "      <td>37784.0</td>\n",
       "      <td>6.362233e+07</td>\n",
       "      <td>1.123916e+08</td>\n",
       "      <td>25.0</td>\n",
       "      <td>1199.0</td>\n",
       "      <td>2216.0</td>\n",
       "      <td>97410003.0</td>\n",
       "      <td>300186515.0</td>\n",
       "    </tr>\n",
       "    <tr>\n",
       "      <th>Shirt Number</th>\n",
       "      <td>37784.0</td>\n",
       "      <td>1.072602e+01</td>\n",
       "      <td>6.960138e+00</td>\n",
       "      <td>0.0</td>\n",
       "      <td>5.0</td>\n",
       "      <td>11.0</td>\n",
       "      <td>17.0</td>\n",
       "      <td>23.0</td>\n",
       "    </tr>\n",
       "  </tbody>\n",
       "</table>\n",
       "</div>"
      ],
      "text/plain": [
       "                count          mean           std    min     25%     50%  \\\n",
       "RoundID       37784.0  1.105647e+07  2.770144e+07  201.0   263.0   337.0   \n",
       "MatchID       37784.0  6.362233e+07  1.123916e+08   25.0  1199.0  2216.0   \n",
       "Shirt Number  37784.0  1.072602e+01  6.960138e+00    0.0     5.0    11.0   \n",
       "\n",
       "                     75%          max  \n",
       "RoundID         255931.0   97410600.0  \n",
       "MatchID       97410003.0  300186515.0  \n",
       "Shirt Number        17.0         23.0  "
      ]
     },
     "execution_count": 23,
     "metadata": {},
     "output_type": "execute_result"
    }
   ],
   "source": [
    "df_player.describe().T"
   ]
  },
  {
   "cell_type": "code",
   "execution_count": null,
   "metadata": {},
   "outputs": [],
   "source": []
  }
 ],
 "metadata": {
  "kernelspec": {
   "display_name": "Python 3",
   "language": "python",
   "name": "python3"
  },
  "language_info": {
   "codemirror_mode": {
    "name": "ipython",
    "version": 3
   },
   "file_extension": ".py",
   "mimetype": "text/x-python",
   "name": "python",
   "nbconvert_exporter": "python",
   "pygments_lexer": "ipython3",
   "version": "3.11.1"
  },
  "orig_nbformat": 4
 },
 "nbformat": 4,
 "nbformat_minor": 2
}
